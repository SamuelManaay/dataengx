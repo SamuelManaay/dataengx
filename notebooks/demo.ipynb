{
 "cells": [
  {
   "cell_type": "code",
   "execution_count": null,
   "id": "ab2ed616",
   "metadata": {
    "vscode": {
     "languageId": "plaintext"
    }
   },
   "outputs": [],
   "source": [
    "# demo.ipynb (convert CSV to JSON using your library)\n",
    "import pandas as pd\n",
    "from dataengx import csv_to_json\n",
    "\n",
    "# Create sample CSV\n",
    "df = pd.DataFrame({\"name\": [\"Alice\", \"Bob\"], \"age\": [30, 25]})\n",
    "df.to_csv(\"people.csv\", index=False)\n",
    "\n",
    "# Convert to JSON\n",
    "csv_to_json(\"people.csv\", \"people.json\")\n"
   ]
  }
 ],
 "metadata": {
  "language_info": {
   "name": "python"
  }
 },
 "nbformat": 4,
 "nbformat_minor": 5
}
